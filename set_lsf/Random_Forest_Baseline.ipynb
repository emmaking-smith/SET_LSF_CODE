{
 "cells": [
  {
   "cell_type": "code",
   "execution_count": 1,
   "id": "74663a94",
   "metadata": {},
   "outputs": [],
   "source": [
    "# Random Forest Baseline on Fingerprints\n",
    "\n",
    "import numpy as np\n",
    "import pandas as pd\n",
    "from rdkit import Chem\n",
    "from rdkit.Chem import Draw\n",
    "from rdkit.Chem.Draw import IPythonConsole\n",
    "from rdkit import DataStructs\n",
    "from rdkit.Chem import rdMolDescriptors\n",
    "from sklearn.ensemble import RandomForestRegressor"
   ]
  },
  {
   "cell_type": "code",
   "execution_count": 39,
   "id": "be949df4",
   "metadata": {},
   "outputs": [],
   "source": [
    "train_data_path = 'data/retrospective_train.pickle'\n",
    "test_data_path = 'data/retrospective_test.pickle'\n",
    "p450_train_data_path = 'data/p450_train.pickle'\n",
    "p450_test_data_path = 'data/p450_test.pickle'"
   ]
  },
  {
   "cell_type": "code",
   "execution_count": 40,
   "id": "2db2011d",
   "metadata": {},
   "outputs": [],
   "source": [
    "train = pd.read_pickle(train_data_path)\n",
    "test = pd.read_pickle(test_data_path)\n",
    "p450_train = pd.read_pickle(p450_train_data_path)\n",
    "p450_test = pd.read_pickle(p450_test_data_path)"
   ]
  },
  {
   "cell_type": "code",
   "execution_count": 41,
   "id": "6afc3957",
   "metadata": {},
   "outputs": [],
   "source": [
    "def make_labels(pickle_data, longest_molecule):\n",
    "    reaction_sites = pickle_data['parent_centres']\n",
    "    Y = np.zeros(longest_molecule)\n",
    "   \n",
    "    if len(reaction_sites) > 0:\n",
    "        for site in reaction_sites:\n",
    "            Y[int(site)] = 1\n",
    "    return Y\n",
    "\n",
    "def make_label_all_df(df, longest_molecule):\n",
    "    Y = []\n",
    "    for i in range(len(df)):\n",
    "        label = make_labels(df.iloc[i], longest_molecule)\n",
    "        Y.append(label)\n",
    "    df['Y'] = Y\n",
    "    return df\n",
    "\n",
    "def make_nha(df):\n",
    "    nhas = []\n",
    "    for i in range(len(df)):\n",
    "        smiles_i = df.loc[i, 'reactant']\n",
    "        mol_i = Chem.MolFromSmiles(smiles_i)\n",
    "        nha_i = mol_i.GetNumHeavyAtoms()\n",
    "        nhas.append(nha_i)\n",
    "    df['nha'] = nhas\n",
    "    return df\n",
    "    \n",
    "#cutting the dummy atoms out of the predictions\n",
    "def snip(pred, test):\n",
    "    all_preds = np.empty([0])\n",
    "    for i in range(len(pred)):\n",
    "        nha_i = test.loc[i, 'nha']\n",
    "        p_i = pred[i][0:nha_i]\n",
    "        all_preds = np.concatenate((all_preds, p_i))\n",
    "    return all_preds\n",
    "\n",
    "def simplify(pred):\n",
    "    sim_pred = np.zeros(len(pred))\n",
    "    for i in range(len(pred)):\n",
    "        if pred[i] > 0.5:\n",
    "            sim_pred[i] = 1\n",
    "        else:\n",
    "            pass\n",
    "    return sim_pred\n",
    "\n",
    "def score(true, pred):\n",
    "    true_p = np.mean(true)\n",
    "    pred_p = np.mean(pred)\n",
    "    if pred_p == 0:\n",
    "        pred_p = 1e-10\n",
    "        \n",
    "    print('true_p', true_p)\n",
    "    print('pred_p', pred_p)\n",
    "    tp = len(np.where(true + pred == 2)[0])\n",
    "    tn = len(np.where(true + pred == 0)[0])\n",
    "    fp = len(np.where(true - pred == -1)[0])\n",
    "    fn = len(np.where(pred - true == -1)[0])\n",
    "    print(\"tp\", tp, \"tn\", tn, \"fp\", fp, \"fn\", fn)\n",
    "    fit = -tp * np.log(pred_p) - tn * np.log(1-pred_p) + fp * np.log(true_p) + fn * np.log(1-true_p)\n",
    "\n",
    "    return fit\n",
    "\n",
    "def rxn_encoding(df_row, unique_reagents, unique_oxidants, unique_solvents, unique_acids, unique_additives, \n",
    "                 unique_p450s, include_p450s):\n",
    "  \n",
    "    rxn = []\n",
    "    rxn += [int(df_row['reagent'] == x) for x in unique_reagents]\n",
    "    rxn += [int(df_row['oxidant'] == x) for x in unique_oxidants]\n",
    "    rxn += [int(df_row['solvent'] == x) for x in unique_solvents]\n",
    "    rxn += [int(df_row['acid'] == x) for x in unique_acids]\n",
    "    rxn += [int(df_row['additive'] == x) for x in unique_additives]\n",
    "    if include_p450s == True:\n",
    "        rxn += [int(df_row['P450'] == x) for x in unique_p450s]\n",
    "    return rxn\n",
    "\n",
    "def rxn_encoding_all_df(df, unique_reagents, unique_oxidants, unique_solvents, unique_acids, unique_additives, \n",
    "                        unique_p450s, include_p450s=False):\n",
    "    rxn_encodings = []\n",
    "    for i in range(len(df)):\n",
    "        encoding_i = rxn_encoding(df.iloc[i], unique_reagents, unique_oxidants, unique_solvents, unique_acids, \n",
    "                                  unique_additives, unique_p450s, include_p450s)\n",
    "        rxn_encodings.append(encoding_i)\n",
    "    df['r'] = rxn_encodings\n",
    "    return df\n",
    "\n",
    "def make_fps(df):\n",
    "    mols = [Chem.MolFromSmiles(s) for s in df['reactant']]\n",
    "    df['mol'] = mols\n",
    "    fps = [rdMolDescriptors.GetMorganFingerprintAsBitVect(mol, 2, 2048) for mol in df['mol']]\n",
    "    df['fps'] = fps\n",
    "    return df\n",
    "\n",
    "def rf_input(df):\n",
    "    inputs = []\n",
    "    for i in range(len(df)):\n",
    "        fps_i = df.loc[i, 'fps']\n",
    "        r_i = df.loc[i, 'r']\n",
    "        input_i = np.concatenate((fps_i, r_i))\n",
    "        inputs.append(input_i)\n",
    "    df['rf_input'] = inputs\n",
    "    return df"
   ]
  },
  {
   "cell_type": "code",
   "execution_count": 42,
   "id": "df2f9b8f",
   "metadata": {},
   "outputs": [],
   "source": [
    "unique_reagents = train['reagent'].unique().tolist()\n",
    "unique_oxidants = train['oxidant'].unique().tolist()\n",
    "unique_solvents = train['solvent'].unique().tolist()\n",
    "unique_acids = train['acid'].unique().tolist()\n",
    "unique_additives = train['additive'].unique().tolist()\n",
    "unique_p450s = p450_train['P450'].unique().tolist()"
   ]
  },
  {
   "cell_type": "code",
   "execution_count": 43,
   "id": "f5b6643c",
   "metadata": {},
   "outputs": [],
   "source": [
    "l = 83\n",
    "train = train.reset_index(drop=True)\n",
    "test = test.reset_index(drop=True)\n",
    "train = make_label_all_df(train, l)\n",
    "train = make_nha(train)\n",
    "train = rxn_encoding_all_df(train, unique_reagents, unique_oxidants, unique_solvents, unique_acids, unique_additives,\n",
    "                            unique_p450s, include_p450s=False)\n",
    "train = make_fps(train)\n",
    "train = rf_input(train)\n",
    "\n",
    "\n",
    "test = make_label_all_df(test, l)\n",
    "test = make_nha(test)\n",
    "test = rxn_encoding_all_df(test, unique_reagents, unique_oxidants, unique_solvents, unique_acids, unique_additives,\n",
    "                            unique_p450s, include_p450s=False)\n",
    "test = make_fps(test)\n",
    "test = rf_input(test)"
   ]
  },
  {
   "cell_type": "code",
   "execution_count": 44,
   "id": "5185ba95",
   "metadata": {},
   "outputs": [
    {
     "data": {
      "text/plain": [
       "RandomForestRegressor()"
      ]
     },
     "execution_count": 44,
     "metadata": {},
     "output_type": "execute_result"
    }
   ],
   "source": [
    "rf = RandomForestRegressor()\n",
    "rf.fit(train['rf_input'].tolist(), train['Y'].tolist())"
   ]
  },
  {
   "cell_type": "code",
   "execution_count": 45,
   "id": "1d2799d0",
   "metadata": {},
   "outputs": [
    {
     "name": "stdout",
     "output_type": "stream",
     "text": [
      "true_p 0.05740740740740741\n",
      "pred_p 0.005555555555555556\n",
      "tp 0 tn 506 fp 3 fn 31\n"
     ]
    },
    {
     "data": {
      "text/plain": [
       "-7.586551823436824"
      ]
     },
     "execution_count": 45,
     "metadata": {},
     "output_type": "execute_result"
    }
   ],
   "source": [
    "preds = rf.predict(test['rf_input'].tolist())\n",
    "p = snip(preds, test)\n",
    "true = snip(test['Y'].tolist(), test)\n",
    "p = simplify(p)\n",
    "rf_score = score(true, p)\n",
    "rf_score"
   ]
  },
  {
   "cell_type": "code",
   "execution_count": 46,
   "id": "669b822b",
   "metadata": {},
   "outputs": [],
   "source": [
    "## RANDOM FOREST ON P450S ##\n",
    "unique_reagents = p450_train['reagent'].unique().tolist()\n",
    "unique_oxidants = p450_train['oxidant'].unique().tolist()\n",
    "unique_solvents = p450_train['solvent'].unique().tolist()\n",
    "unique_acids = p450_train['acid'].unique().tolist()\n",
    "unique_additives = p450_train['additive'].unique().tolist()\n",
    "unique_p450s = p450_train['P450'].unique().tolist()"
   ]
  },
  {
   "cell_type": "code",
   "execution_count": 47,
   "id": "2e1fb22e",
   "metadata": {},
   "outputs": [],
   "source": [
    "l = 83\n",
    "p450_train = p450_train.reset_index(drop=True)\n",
    "p450_test = p450_test.reset_index(drop=True)\n",
    "\n",
    "p450_train = make_label_all_df(p450_train, l)\n",
    "p450_train = make_nha(p450_train)\n",
    "p450_train = rxn_encoding_all_df(p450_train, unique_reagents, unique_oxidants, unique_solvents, unique_acids, unique_additives,\n",
    "                            unique_p450s, include_p450s=True)\n",
    "p450_train = make_fps(p450_train)\n",
    "p450_train = rf_input(p450_train)\n",
    "\n",
    "\n",
    "p450_test = make_label_all_df(p450_test, l)\n",
    "p450_test = make_nha(p450_test)\n",
    "p450_test = rxn_encoding_all_df(p450_test, unique_reagents, unique_oxidants, unique_solvents, unique_acids, unique_additives,\n",
    "                            unique_p450s, include_p450s=True)\n",
    "p450_test = make_fps(p450_test)\n",
    "p450_test = rf_input(p450_test)"
   ]
  },
  {
   "cell_type": "code",
   "execution_count": 48,
   "id": "6b89b259",
   "metadata": {},
   "outputs": [
    {
     "data": {
      "text/plain": [
       "RandomForestRegressor()"
      ]
     },
     "execution_count": 48,
     "metadata": {},
     "output_type": "execute_result"
    }
   ],
   "source": [
    "rf_p450 = RandomForestRegressor()\n",
    "rf_p450.fit(p450_train['rf_input'].tolist(), p450_train['Y'].tolist())"
   ]
  },
  {
   "cell_type": "code",
   "execution_count": 49,
   "id": "8d2f74c8",
   "metadata": {},
   "outputs": [
    {
     "name": "stdout",
     "output_type": "stream",
     "text": [
      "true_p 0.06528497409326425\n",
      "pred_p 0.02694300518134715\n",
      "tp 11 tn 887 fp 15 fn 52\n",
      "19.535036175861247\n"
     ]
    }
   ],
   "source": [
    "preds_p450 = rf_p450.predict(p450_test['rf_input'].tolist())\n",
    "p_p450 = snip(preds_p450, p450_test)\n",
    "true_p450 = snip(p450_test['Y'].tolist(), p450_test)\n",
    "p_p450 = simplify(p_p450)\n",
    "rf_score_p450 = score(true_p450, p_p450)\n",
    "print(rf_score_p450)"
   ]
  },
  {
   "cell_type": "code",
   "execution_count": null,
   "id": "8f41cde1",
   "metadata": {},
   "outputs": [],
   "source": []
  }
 ],
 "metadata": {
  "hide_input": false,
  "kernelspec": {
   "display_name": "KernelName2",
   "language": "python",
   "name": "venv3.7"
  },
  "language_info": {
   "codemirror_mode": {
    "name": "ipython",
    "version": 3
   },
   "file_extension": ".py",
   "mimetype": "text/x-python",
   "name": "python",
   "nbconvert_exporter": "python",
   "pygments_lexer": "ipython3",
   "version": "3.7.11"
  }
 },
 "nbformat": 4,
 "nbformat_minor": 5
}
